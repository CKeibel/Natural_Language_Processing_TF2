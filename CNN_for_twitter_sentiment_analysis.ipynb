{
  "nbformat": 4,
  "nbformat_minor": 0,
  "metadata": {
    "accelerator": "GPU",
    "colab": {
      "name": "CNN_for_NLP.ipynb",
      "provenance": [],
      "collapsed_sections": []
    },
    "kernelspec": {
      "display_name": "Python 3",
      "name": "python3"
    }
  },
  "cells": [
    {
      "cell_type": "markdown",
      "metadata": {
        "id": "XYjXsO1lZOsz"
      },
      "source": [
        "# Sentiment-Analyse Twitter"
      ]
    },
    {
      "cell_type": "code",
      "metadata": {
        "id": "XkQ2Mb5lXqMp"
      },
      "source": [
        "import numpy as np\r\n",
        "import math\r\n",
        "import re\r\n",
        "import pandas as pd\r\n",
        "from bs4 import BeautifulSoup\r\n",
        "\r\n",
        "from google.colab import drive"
      ],
      "execution_count": 1,
      "outputs": []
    },
    {
      "cell_type": "code",
      "metadata": {
        "colab": {
          "base_uri": "https://localhost:8080/",
          "height": 35
        },
        "id": "qnpK4YkKYOiV",
        "outputId": "c1ca15f4-afc4-448c-9e63-b161b2b3c094"
      },
      "source": [
        "import tensorflow as tf\r\n",
        "from tensorflow.keras import layers\r\n",
        "import tensorflow_datasets as tfds\r\n",
        "tf.__version__"
      ],
      "execution_count": 2,
      "outputs": [
        {
          "output_type": "execute_result",
          "data": {
            "application/vnd.google.colaboratory.intrinsic+json": {
              "type": "string"
            },
            "text/plain": [
              "'2.4.0'"
            ]
          },
          "metadata": {
            "tags": []
          },
          "execution_count": 2
        }
      ]
    },
    {
      "cell_type": "markdown",
      "metadata": {
        "id": "OkbqlqivY3IF"
      },
      "source": [
        "## Preprocessing"
      ]
    },
    {
      "cell_type": "code",
      "metadata": {
        "colab": {
          "base_uri": "https://localhost:8080/"
        },
        "id": "OloOrAb5Y55t",
        "outputId": "80dd4d37-15c8-43fb-8168-769f41cb3289"
      },
      "source": [
        "# mount google drive\r\n",
        "drive.mount(\"/content/drive\")"
      ],
      "execution_count": 3,
      "outputs": [
        {
          "output_type": "stream",
          "text": [
            "Mounted at /content/drive\n"
          ],
          "name": "stdout"
        }
      ]
    },
    {
      "cell_type": "code",
      "metadata": {
        "colab": {
          "base_uri": "https://localhost:8080/"
        },
        "id": "acWO7hIMbBuQ",
        "outputId": "e8b4af93-e6b3-449c-cbaf-d1b05f97fd1e"
      },
      "source": [
        "!ls \"drive/MyDrive/Datasets/NLP/sentiment140_academics\""
      ],
      "execution_count": 4,
      "outputs": [
        {
          "output_type": "stream",
          "text": [
            "testdata.csv  training.csv\n"
          ],
          "name": "stdout"
        }
      ]
    },
    {
      "cell_type": "markdown",
      "metadata": {
        "id": "4YqiBDNjdQuj"
      },
      "source": [
        "### load in the data via pandas"
      ]
    },
    {
      "cell_type": "code",
      "metadata": {
        "id": "OtiW5hrwZ4W8"
      },
      "source": [
        "# load data\r\n",
        "cols = [\"label\", \"id\", \"date\", \"query\", \"user\", \"text\"]\r\n",
        "\r\n",
        "# train data\r\n",
        "train_data = pd.read_csv(\r\n",
        "    \"drive/MyDrive/Datasets/NLP/sentiment140_academics/training.csv\",\r\n",
        "    header=None,\r\n",
        "    names=cols,\r\n",
        "    engine=\"python\",\r\n",
        "    encoding=\"latin1\"\r\n",
        "    )"
      ],
      "execution_count": 5,
      "outputs": []
    },
    {
      "cell_type": "code",
      "metadata": {
        "colab": {
          "base_uri": "https://localhost:8080/",
          "height": 237
        },
        "id": "j0PJi_ujcxB2",
        "outputId": "c661b515-654a-4a52-a4e9-633204c4fbe8"
      },
      "source": [
        "train_data.head(3)"
      ],
      "execution_count": 6,
      "outputs": [
        {
          "output_type": "execute_result",
          "data": {
            "text/html": [
              "<div>\n",
              "<style scoped>\n",
              "    .dataframe tbody tr th:only-of-type {\n",
              "        vertical-align: middle;\n",
              "    }\n",
              "\n",
              "    .dataframe tbody tr th {\n",
              "        vertical-align: top;\n",
              "    }\n",
              "\n",
              "    .dataframe thead th {\n",
              "        text-align: right;\n",
              "    }\n",
              "</style>\n",
              "<table border=\"1\" class=\"dataframe\">\n",
              "  <thead>\n",
              "    <tr style=\"text-align: right;\">\n",
              "      <th></th>\n",
              "      <th>label</th>\n",
              "      <th>id</th>\n",
              "      <th>date</th>\n",
              "      <th>query</th>\n",
              "      <th>user</th>\n",
              "      <th>text</th>\n",
              "    </tr>\n",
              "  </thead>\n",
              "  <tbody>\n",
              "    <tr>\n",
              "      <th>0</th>\n",
              "      <td>0</td>\n",
              "      <td>1467810369</td>\n",
              "      <td>Mon Apr 06 22:19:45 PDT 2009</td>\n",
              "      <td>NO_QUERY</td>\n",
              "      <td>_TheSpecialOne_</td>\n",
              "      <td>@switchfoot http://twitpic.com/2y1zl - Awww, t...</td>\n",
              "    </tr>\n",
              "    <tr>\n",
              "      <th>1</th>\n",
              "      <td>0</td>\n",
              "      <td>1467810672</td>\n",
              "      <td>Mon Apr 06 22:19:49 PDT 2009</td>\n",
              "      <td>NO_QUERY</td>\n",
              "      <td>scotthamilton</td>\n",
              "      <td>is upset that he can't update his Facebook by ...</td>\n",
              "    </tr>\n",
              "    <tr>\n",
              "      <th>2</th>\n",
              "      <td>0</td>\n",
              "      <td>1467810917</td>\n",
              "      <td>Mon Apr 06 22:19:53 PDT 2009</td>\n",
              "      <td>NO_QUERY</td>\n",
              "      <td>mattycus</td>\n",
              "      <td>@Kenichan I dived many times for the ball. Man...</td>\n",
              "    </tr>\n",
              "  </tbody>\n",
              "</table>\n",
              "</div>"
            ],
            "text/plain": [
              "   label  ...                                               text\n",
              "0      0  ...  @switchfoot http://twitpic.com/2y1zl - Awww, t...\n",
              "1      0  ...  is upset that he can't update his Facebook by ...\n",
              "2      0  ...  @Kenichan I dived many times for the ball. Man...\n",
              "\n",
              "[3 rows x 6 columns]"
            ]
          },
          "metadata": {
            "tags": []
          },
          "execution_count": 6
        }
      ]
    },
    {
      "cell_type": "code",
      "metadata": {
        "id": "V2UIaQXZcGC9"
      },
      "source": [
        "# test data\r\n",
        "test_data = pd.read_csv(\r\n",
        "    \"drive/MyDrive/Datasets/NLP/sentiment140_academics/testdata.csv\",\r\n",
        "    header=None,\r\n",
        "    names=cols,\r\n",
        "    engine=\"python\",\r\n",
        "    encoding=\"latin1\"\r\n",
        "    )"
      ],
      "execution_count": 7,
      "outputs": []
    },
    {
      "cell_type": "code",
      "metadata": {
        "colab": {
          "base_uri": "https://localhost:8080/",
          "height": 186
        },
        "id": "R2EFTgjVcgqE",
        "outputId": "87aa3754-522a-4dea-eeb3-810e8754a50e"
      },
      "source": [
        "test_data.head(3)"
      ],
      "execution_count": 8,
      "outputs": [
        {
          "output_type": "execute_result",
          "data": {
            "text/html": [
              "<div>\n",
              "<style scoped>\n",
              "    .dataframe tbody tr th:only-of-type {\n",
              "        vertical-align: middle;\n",
              "    }\n",
              "\n",
              "    .dataframe tbody tr th {\n",
              "        vertical-align: top;\n",
              "    }\n",
              "\n",
              "    .dataframe thead th {\n",
              "        text-align: right;\n",
              "    }\n",
              "</style>\n",
              "<table border=\"1\" class=\"dataframe\">\n",
              "  <thead>\n",
              "    <tr style=\"text-align: right;\">\n",
              "      <th></th>\n",
              "      <th>label</th>\n",
              "      <th>id</th>\n",
              "      <th>date</th>\n",
              "      <th>query</th>\n",
              "      <th>user</th>\n",
              "      <th>text</th>\n",
              "    </tr>\n",
              "  </thead>\n",
              "  <tbody>\n",
              "    <tr>\n",
              "      <th>0</th>\n",
              "      <td>4</td>\n",
              "      <td>3</td>\n",
              "      <td>Mon May 11 03:17:40 UTC 2009</td>\n",
              "      <td>kindle2</td>\n",
              "      <td>tpryan</td>\n",
              "      <td>@stellargirl I loooooooovvvvvveee my Kindle2. ...</td>\n",
              "    </tr>\n",
              "    <tr>\n",
              "      <th>1</th>\n",
              "      <td>4</td>\n",
              "      <td>4</td>\n",
              "      <td>Mon May 11 03:18:03 UTC 2009</td>\n",
              "      <td>kindle2</td>\n",
              "      <td>vcu451</td>\n",
              "      <td>Reading my kindle2...  Love it... Lee childs i...</td>\n",
              "    </tr>\n",
              "    <tr>\n",
              "      <th>2</th>\n",
              "      <td>4</td>\n",
              "      <td>5</td>\n",
              "      <td>Mon May 11 03:18:54 UTC 2009</td>\n",
              "      <td>kindle2</td>\n",
              "      <td>chadfu</td>\n",
              "      <td>Ok, first assesment of the #kindle2 ...it fuck...</td>\n",
              "    </tr>\n",
              "  </tbody>\n",
              "</table>\n",
              "</div>"
            ],
            "text/plain": [
              "   label  id  ...    user                                               text\n",
              "0      4   3  ...  tpryan  @stellargirl I loooooooovvvvvveee my Kindle2. ...\n",
              "1      4   4  ...  vcu451  Reading my kindle2...  Love it... Lee childs i...\n",
              "2      4   5  ...  chadfu  Ok, first assesment of the #kindle2 ...it fuck...\n",
              "\n",
              "[3 rows x 6 columns]"
            ]
          },
          "metadata": {
            "tags": []
          },
          "execution_count": 8
        }
      ]
    },
    {
      "cell_type": "markdown",
      "metadata": {
        "id": "0w_JRCwzdXQ7"
      },
      "source": [
        "### cleaning"
      ]
    },
    {
      "cell_type": "code",
      "metadata": {
        "colab": {
          "base_uri": "https://localhost:8080/"
        },
        "id": "ktjxluppdNHr",
        "outputId": "6b77fdfa-3ee1-4a5e-dd21-787b7c4dcc01"
      },
      "source": [
        "# drop not needed columns\r\n",
        "train_data.drop(\r\n",
        "    [\"id\", \"date\", \"query\", \"user\"],\r\n",
        "    axis=1,\r\n",
        "    inplace=True)\r\n",
        "\r\n",
        "train_data.columns"
      ],
      "execution_count": 9,
      "outputs": [
        {
          "output_type": "execute_result",
          "data": {
            "text/plain": [
              "Index(['label', 'text'], dtype='object')"
            ]
          },
          "metadata": {
            "tags": []
          },
          "execution_count": 9
        }
      ]
    },
    {
      "cell_type": "code",
      "metadata": {
        "id": "5zmoF7aEh6M5"
      },
      "source": [
        "def clean_tweet(tweet):\r\n",
        "    tweet = BeautifulSoup(tweet, \"lxml\").get_text()\r\n",
        "    # RegExr\r\n",
        "    tweet = re.sub(r\"@[A-Za-z0-9]+\", ' ', tweet)\r\n",
        "    tweet = re.sub(r\"https?://[A-Za-z0-9./]+\", ' ', tweet)\r\n",
        "    tweet = re.sub(r\"[^a-zA-Z.!?']\", ' ', tweet)\r\n",
        "    tweet = re.sub(r\" +\", ' ', tweet) # get rid of white spaces in a row\r\n",
        "    return tweet"
      ],
      "execution_count": 10,
      "outputs": []
    },
    {
      "cell_type": "code",
      "metadata": {
        "id": "i1lrMFmtotfz"
      },
      "source": [
        "train_data_clean = [clean_tweet(tweet) for tweet in train_data.text]"
      ],
      "execution_count": 11,
      "outputs": []
    },
    {
      "cell_type": "code",
      "metadata": {
        "id": "HpmzUcMTpIer",
        "colab": {
          "base_uri": "https://localhost:8080/"
        },
        "outputId": "3a7e5b8b-e35d-4e7d-c747-ce58b42b9e7f"
      },
      "source": [
        "# get labels\r\n",
        "train_data_labels = train_data.label.values\r\n",
        "set(train_data_labels)"
      ],
      "execution_count": 12,
      "outputs": [
        {
          "output_type": "execute_result",
          "data": {
            "text/plain": [
              "{0, 4}"
            ]
          },
          "metadata": {
            "tags": []
          },
          "execution_count": 12
        }
      ]
    },
    {
      "cell_type": "code",
      "metadata": {
        "id": "H-W4sb09pr1Q",
        "colab": {
          "base_uri": "https://localhost:8080/"
        },
        "outputId": "4b5b9948-154b-481a-b9c7-50d1d7a4a709"
      },
      "source": [
        "# replace label 4 with 1\r\n",
        "train_data_labels[train_data_labels == 4] = 1\r\n",
        "set(train_data_labels)"
      ],
      "execution_count": 13,
      "outputs": [
        {
          "output_type": "execute_result",
          "data": {
            "text/plain": [
              "{0, 1}"
            ]
          },
          "metadata": {
            "tags": []
          },
          "execution_count": 13
        }
      ]
    },
    {
      "cell_type": "markdown",
      "metadata": {
        "id": "Urs6ALihsGzP"
      },
      "source": [
        "### tokenization"
      ]
    },
    {
      "cell_type": "code",
      "metadata": {
        "id": "k3kckCx6sJ6S"
      },
      "source": [
        "tokenizer = tfds.deprecated.text.SubwordTextEncoder.build_from_corpus(\r\n",
        "    train_data_clean, target_vocab_size=2**16\r\n",
        ")\r\n",
        "\r\n",
        "data_inputs = [tokenizer.encode(sentence) for sentence in train_data_clean]"
      ],
      "execution_count": 14,
      "outputs": []
    },
    {
      "cell_type": "markdown",
      "metadata": {
        "id": "ETpEm0ZxuIa2"
      },
      "source": [
        "### padding"
      ]
    },
    {
      "cell_type": "code",
      "metadata": {
        "id": "v9p-HKrKuGRy"
      },
      "source": [
        "MAX_LEN = max([len(sentence) for sentence in data_inputs])\r\n",
        "data_inputs = tf.keras.preprocessing.sequence.pad_sequences(data_inputs,\r\n",
        "                                                            value=0,\r\n",
        "                                                            padding=\"post\",\r\n",
        "                                                            maxlen=MAX_LEN)"
      ],
      "execution_count": 20,
      "outputs": []
    },
    {
      "cell_type": "markdown",
      "metadata": {
        "id": "iRVIJGFyse7q"
      },
      "source": [
        "### splitting data into train and test data"
      ]
    },
    {
      "cell_type": "code",
      "metadata": {
        "id": "81yLHI4Su-U3"
      },
      "source": [
        "test_idx = np.random.randint(0, 800000, 8000)\r\n",
        "test_idx = np.concatenate((test_idx, test_idx+800000))"
      ],
      "execution_count": 21,
      "outputs": []
    },
    {
      "cell_type": "code",
      "metadata": {
        "id": "4tFNmc9ov7Da"
      },
      "source": [
        "test_inputs = data_inputs[test_idx]\r\n",
        "test_labels = train_data_labels[test_idx]\r\n",
        "train_inputs = np.delete(data_inputs, test_idx, axis=0)\r\n",
        "train_labels = np.delete(train_data_labels, test_idx)"
      ],
      "execution_count": 23,
      "outputs": []
    },
    {
      "cell_type": "markdown",
      "metadata": {
        "id": "0OZT5pWyrtHg"
      },
      "source": [
        "### build model"
      ]
    },
    {
      "cell_type": "code",
      "metadata": {
        "id": "zijau_h0rvpc"
      },
      "source": [
        "class DCNN(tf.keras.Model):\r\n",
        "    def __init__(self,\r\n",
        "                 vocab_size, \r\n",
        "                 emb_dim=128, \r\n",
        "                 nb_filters=50, \r\n",
        "                 FFN_units=512, \r\n",
        "                 nb_classes=2, \r\n",
        "                 dropout_rate=0.1,\r\n",
        "                 training=False,\r\n",
        "                 name=\"dcnn\"):\r\n",
        "        super(DCNN, self).__init__(name=name)\r\n",
        "        self.embedding = layers.Embedding(vocab_size, \r\n",
        "                                        emb_dim)\r\n",
        "        self.bigram = layers.Conv1D(filters=nb_filters, \r\n",
        "                                kernel_size=2, \r\n",
        "                                    padding=\"valid\",\r\n",
        "                                    activation=\"relu\")\r\n",
        "        self.pool_1 = layers.GlobalMaxPool1D()\r\n",
        "        self.trigram = layers.Conv1D(filters=nb_filters,\r\n",
        "                                    kernel_size=3,\r\n",
        "                                    padding=\"valid\",\r\n",
        "                                    activation=\"relu\")\r\n",
        "        self.pool_2 = layers.GlobalMaxPool1D()\r\n",
        "        self.fourgram = layers.Conv1D(filters=nb_filters,\r\n",
        "                                    kernel_size=4,\r\n",
        "                                    padding=\"valid\",\r\n",
        "                                    activation=\"relu\")\r\n",
        "        self.pool_3 = layers.GlobalMaxPool1D()\r\n",
        "        self.dense_1 = layers.Dense(units=FFN_units,\r\n",
        "                                    activation=\"relu\")\r\n",
        "        self.dropout = layers.Dropout(rate=dropout_rate)\r\n",
        "        if nb_classes == 2:\r\n",
        "            self.last_dense = layers.Dense(units=1,\r\n",
        "                                        activation=\"sigmoid\")\r\n",
        "        else: \r\n",
        "            self.last_dense = layers.Dense(units=nb_classes,\r\n",
        "                                        activation=\"softmax\")\r\n",
        "    \r\n",
        "    def call(self, inputs, training):\r\n",
        "        x = self.embedding(inputs)\r\n",
        "        x_1 = self.bigram(x)\r\n",
        "        x_1 = self.pool_1(x_1)\r\n",
        "        x_2 = self.trigram(x)\r\n",
        "        x_2 = self.pool_2(x_2)\r\n",
        "        x_3 = self.fourgram(x)\r\n",
        "        x_3 = self.pool_3(x_3)\r\n",
        "        merged = tf.concat([x_1, x_2, x_3], axis=-1) # batch_size * 3 * nb_filters\r\n",
        "        merged = self.dense_1(merged)\r\n",
        "        merged = self.dropout(merged, training)\r\n",
        "        output = self.last_dense(merged)\r\n",
        "\r\n",
        "        return output\r\n"
      ],
      "execution_count": 36,
      "outputs": []
    },
    {
      "cell_type": "code",
      "metadata": {
        "id": "13mafbo2xo7I"
      },
      "source": [
        "# config\r\n",
        "VOCAB_SIZE = tokenizer.vocab_size\r\n",
        "EMB_DIM = 200\r\n",
        "NB_FILTERS = 100\r\n",
        "FFN_UNITS = 256\r\n",
        "NB_CLASSES = len(set(train_labels))\r\n",
        "DROPOUT_RATE = 0.2\r\n",
        "BATCH_SIZE = 32\r\n",
        "NB_EPOCHS = 5"
      ],
      "execution_count": 26,
      "outputs": []
    },
    {
      "cell_type": "markdown",
      "metadata": {
        "id": "rG2LzyyWydc6"
      },
      "source": [
        "### training"
      ]
    },
    {
      "cell_type": "code",
      "metadata": {
        "id": "WAiHZXMqybXU"
      },
      "source": [
        "dcnn = DCNN(vocab_size=VOCAB_SIZE, \r\n",
        "            emb_dim=EMB_DIM, \r\n",
        "            nb_filters=NB_FILTERS, \r\n",
        "            FFN_units=FFN_UNITS, \r\n",
        "            nb_classes=NB_CLASSES, \r\n",
        "            dropout_rate=DROPOUT_RATE)"
      ],
      "execution_count": 37,
      "outputs": []
    },
    {
      "cell_type": "code",
      "metadata": {
        "id": "hOD_Vt3v2atP"
      },
      "source": [
        "if NB_CLASSES == 2:\r\n",
        "    dcnn.compile(loss=\"binary_crossentropy\",\r\n",
        "                 optimizer=\"adam\",\r\n",
        "                 metrics=[\"accuracy\"])\r\n",
        "else:\r\n",
        "    Dcnn.compile(loss=\"sparse_categorical_crossentropy\",\r\n",
        "                 optimizer=\"adam\",\r\n",
        "                 metrics=[\"sparse_categorical_accuracy\"])"
      ],
      "execution_count": 47,
      "outputs": []
    },
    {
      "cell_type": "code",
      "metadata": {
        "colab": {
          "base_uri": "https://localhost:8080/"
        },
        "id": "3ez-Tbcd3Agy",
        "outputId": "00714160-986c-4468-e1f1-bccad3e2df85"
      },
      "source": [
        "!ls \"drive/MyDrive/Datasets/NLP/sentiment140_academics\""
      ],
      "execution_count": 42,
      "outputs": [
        {
          "output_type": "stream",
          "text": [
            "testdata.csv  training.csv\n"
          ],
          "name": "stdout"
        }
      ]
    },
    {
      "cell_type": "code",
      "metadata": {
        "id": "_KasJdxL25ef"
      },
      "source": [
        "checkpoint_path = \"drive/MyDrive/Datasets/NLP/sentiment140_academics\"\r\n",
        "ckpt = tf.train.Checkpoint(dcnn=dcnn)\r\n",
        "ckpt_manager = tf.train.CheckpointManager(ckpt, checkpoint_path, max_to_keep=1)\r\n",
        "if ckpt_manager.latest_checkpoint:\r\n",
        "    ckpt.restore(ckpt_manager.latest_checkpoint)\r\n",
        "    print(\"Lastest checkpoint restored!\")"
      ],
      "execution_count": 45,
      "outputs": []
    },
    {
      "cell_type": "code",
      "metadata": {
        "colab": {
          "base_uri": "https://localhost:8080/"
        },
        "id": "mBAks_Sz4D9F",
        "outputId": "e93fc1c3-12f3-4bca-cf90-dfbd4fe9fe5d"
      },
      "source": [
        "dcnn.fit(train_inputs,\r\n",
        "         train_labels,\r\n",
        "         batch_size=BATCH_SIZE,\r\n",
        "         epochs=NB_EPOCHS)\r\n",
        "ckpt_manager.save()"
      ],
      "execution_count": null,
      "outputs": [
        {
          "output_type": "stream",
          "text": [
            "Epoch 1/5\n",
            "  187/49503 [..............................] - ETA: 1:32:50 - loss: 0.6615 - accuracy: 0.5672"
          ],
          "name": "stdout"
        }
      ]
    }
  ]
}